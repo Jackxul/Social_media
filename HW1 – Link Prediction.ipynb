{
 "cells": [
  {
   "cell_type": "code",
   "execution_count": 183,
   "id": "305bde55",
   "metadata": {},
   "outputs": [
    {
     "name": "stdout",
     "output_type": "stream",
     "text": [
      "Validation accuracy: 0.8621\n"
     ]
    }
   ],
   "source": [
    "import pandas as pd\n",
    "from sklearn.model_selection import train_test_split\n",
    "from sklearn.preprocessing import StandardScaler\n",
    "from sklearn.ensemble import RandomForestClassifier\n",
    "\n",
    "from sklearn.metrics import accuracy_score, precision_score, recall_score, f1_score\n",
    "\n",
    "train_data = pd.read_csv('new_train_data.csv')\n",
    "\n",
    "# split the data\n",
    "X_train, X_val, y_train, y_val = train_test_split(train_data[['node1', 'node2']], train_data['label'], test_size=0.2, random_state=0)\n",
    "\n",
    "scaler = StandardScaler()\n",
    "X_train_scaled = scaler.fit_transform(X_train)\n",
    "X_val_scaled = scaler.transform(X_val)\n",
    "\n",
    "# random forest classifier\n",
    "model = RandomForestClassifier(n_estimators=1258, random_state=0)\n",
    "model.fit(X_train_scaled, y_train)\n",
    "\n",
    "# predict\n",
    "val_preds = model.predict(X_val_scaled)\n",
    "\n",
    "# calculate accuracy\n",
    "accuracy = accuracy_score(y_val, val_preds)\n",
    "print(f\"Validation accuracy: {accuracy:.4f}\")\n",
    "\n",
    "test_data = pd.read_csv('new_test_data.csv')\n",
    "\n",
    "test_data_scaled = scaler.transform(test_data[['node1', 'node2']])\n",
    "\n",
    "predictions = model.predict(test_data_scaled)\n",
    "\n",
    "# add a new column in the test_data\n",
    "test_data['label'] = predictions"
   ]
  },
  {
   "cell_type": "code",
   "execution_count": 184,
   "id": "8c14400a",
   "metadata": {},
   "outputs": [
    {
     "name": "stdout",
     "output_type": "stream",
     "text": [
      "Precision: 1.0000\n",
      "Recall: 1.0000\n",
      "F1-score: 1.0000\n"
     ]
    }
   ],
   "source": [
    "# Calculate precision, recall, and F1-score\n",
    "precision = precision_score(test_data['label'], predictions)\n",
    "recall = recall_score(test_data['label'], predictions)\n",
    "f1 = f1_score(test_data['label'], predictions)\n",
    "\n",
    "print(f\"Precision: {precision:.4f}\")\n",
    "print(f\"Recall: {recall:.4f}\")\n",
    "print(f\"F1-score: {f1:.4f}\")"
   ]
  },
  {
   "cell_type": "code",
   "execution_count": 185,
   "id": "503e5397",
   "metadata": {},
   "outputs": [],
   "source": [
    "ans = test_data.drop(['node1', 'node2'], axis=1)\n",
    "ans = ans.rename(columns={'label': 'ans'})\n",
    "\n",
    "ans.to_csv('predicted_labels.csv', index=False)"
   ]
  },
  {
   "cell_type": "code",
   "execution_count": null,
   "id": "18bbcad4",
   "metadata": {},
   "outputs": [],
   "source": []
  },
  {
   "cell_type": "code",
   "execution_count": null,
   "id": "038df9b4",
   "metadata": {},
   "outputs": [],
   "source": []
  }
 ],
 "metadata": {
  "kernelspec": {
   "display_name": "Python 3 (ipykernel)",
   "language": "python",
   "name": "python3"
  },
  "language_info": {
   "codemirror_mode": {
    "name": "ipython",
    "version": 3
   },
   "file_extension": ".py",
   "mimetype": "text/x-python",
   "name": "python",
   "nbconvert_exporter": "python",
   "pygments_lexer": "ipython3",
   "version": "3.10.9"
  }
 },
 "nbformat": 4,
 "nbformat_minor": 5
}
